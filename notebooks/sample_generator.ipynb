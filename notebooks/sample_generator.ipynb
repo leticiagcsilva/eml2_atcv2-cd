{
 "cells": [
  {
   "cell_type": "code",
   "execution_count": 2,
   "metadata": {},
   "outputs": [
    {
     "name": "stdout",
     "output_type": "stream",
     "text": [
      "Arquivo sample.csv gerado com sucesso!\n"
     ]
    }
   ],
   "source": [
    "import pandas as pd\n",
    "import numpy as np\n",
    "from datetime import datetime, timedelta\n",
    "\n",
    "# Define o intervalo de datas\n",
    "start_date = datetime(2024, 1, 1)\n",
    "end_date = datetime(2024, 3, 31)\n",
    "date_range = pd.date_range(start=start_date, end=end_date, freq='D')\n",
    "\n",
    "# Gerar preços e volume fictícios\n",
    "np.random.seed(42)  # Para reprodutibilidade\n",
    "n_days = len(date_range)\n",
    "\n",
    "# Gerar preços fictícios e calcular a média móvel de 7 dias\n",
    "open_prices = np.random.uniform(low=70, high=80, size=n_days)\n",
    "close_prices = open_prices + np.random.uniform(low=-2, high=2, size=n_days)\n",
    "\n",
    "# Criar DataFrame\n",
    "price_df = pd.DataFrame({\n",
    "    'Date': date_range,\n",
    "    'Close': close_prices\n",
    "})\n",
    "\n",
    "# Calcular a média móvel de 7 dias\n",
    "price_df['7-Day MA'] = price_df['Close'].rolling(window=7).mean().fillna(method='bfill')\n",
    "\n",
    "# Selecionar apenas as colunas esperadas pelo modelo\n",
    "price_df = price_df[['7-Day MA']]  # Ajuste conforme necessário\n",
    "\n",
    "# Salvar o DataFrame em um arquivo CSV\n",
    "price_df.to_csv('../data/sample.csv', index=False)\n",
    "\n",
    "print(\"Arquivo sample.csv gerado com sucesso!\")\n"
   ]
  },
  {
   "cell_type": "code",
   "execution_count": 4,
   "metadata": {},
   "outputs": [
    {
     "name": "stdout",
     "output_type": "stream",
     "text": [
      "Arquivo sample.csv gerado com sucesso!\n"
     ]
    }
   ],
   "source": [
    "import pandas as pd\n",
    "import numpy as np\n",
    "from datetime import datetime, timedelta\n",
    "\n",
    "# Define o intervalo de datas\n",
    "start_date = datetime(2024, 1, 1)\n",
    "end_date = datetime(2024, 12, 31)\n",
    "date_range = pd.date_range(start=start_date, end=end_date, freq='D')\n",
    "\n",
    "# Gerar preços e volume fictícios\n",
    "np.random.seed(42)  # Para reprodutibilidade\n",
    "n_days = len(date_range)\n",
    "\n",
    "# Gerar preços fictícios e calcular a média móvel de 7 dias\n",
    "open_prices = np.random.uniform(low=70, high=80, size=n_days)\n",
    "close_prices = open_prices + np.random.uniform(low=-2, high=2, size=n_days)\n",
    "\n",
    "# Criar DataFrame\n",
    "price_df = pd.DataFrame({\n",
    "    'Date': date_range,\n",
    "    'Open': open_prices,\n",
    "    'Close': close_prices\n",
    "})\n",
    "\n",
    "# Calcular a média móvel de 7 dias\n",
    "price_df['7-Day MA'] = price_df['Close'].rolling(window=7).mean().fillna(method='bfill')\n",
    "\n",
    "# Selecionar apenas as colunas esperadas pelo modelo\n",
    "price_df = price_df[['Date', '7-Day MA']]  # Incluindo a coluna 'Date' se necessário\n",
    "\n",
    "# Salvar o DataFrame em um arquivo CSV\n",
    "price_df.to_csv('../data/sample.csv', index=False)  # Ajuste o caminho se necessário\n",
    "\n",
    "print(\"Arquivo sample.csv gerado com sucesso!\")\n"
   ]
  },
  {
   "cell_type": "code",
   "execution_count": null,
   "metadata": {},
   "outputs": [],
   "source": [
    "import pandas as pd\n",
    "import numpy as np\n",
    "from datetime import datetime, timedelta\n",
    "\n",
    "# Define o intervalo de datas\n",
    "start_date = datetime(2024, 1, 1)\n",
    "end_date = datetime(2024, 12, 31)\n",
    "date_range = pd.date_range(start=start_date, end=end_date, freq='D')\n",
    "\n",
    "# Gerar preços e volume fictícios\n",
    "np.random.seed(42)  # Para reprodutibilidade\n",
    "n_days = len(date_range)\n",
    "\n",
    "# Gerar preços fictícios e calcular a média móvel de 7 dias\n",
    "open_prices = np.random.uniform(low=70, high=80, size=n_days)\n",
    "close_prices = open_prices + np.random.uniform(low=-2, high=2, size=n_days)\n",
    "\n",
    "# Criar DataFrame\n",
    "price_df = pd.DataFrame({\n",
    "    'Date': date_range,\n",
    "    'Close': close_prices\n",
    "})\n",
    "\n",
    "# Calcular a média móvel de 7 dias\n",
    "price_df['7-Day MA'] = price_df['Close'].rolling(window=7).mean().fillna(method='bfill')\n",
    "\n",
    "# Selecionar apenas as colunas esperadas pelo modelo\n",
    "price_df = price_df[['7-Day MA']]  # Ajuste conforme necessário\n",
    "\n",
    "# Salvar o DataFrame em um arquivo CSV\n",
    "price_df.to_csv('../data/sample.csv', index=False)\n",
    "\n",
    "print(\"Arquivo sample.csv gerado com sucesso!\")\n"
   ]
  }
 ],
 "metadata": {
  "kernelspec": {
   "display_name": "Python 3",
   "language": "python",
   "name": "python3"
  },
  "language_info": {
   "codemirror_mode": {
    "name": "ipython",
    "version": 3
   },
   "file_extension": ".py",
   "mimetype": "text/x-python",
   "name": "python",
   "nbconvert_exporter": "python",
   "pygments_lexer": "ipython3",
   "version": "3.11.4"
  }
 },
 "nbformat": 4,
 "nbformat_minor": 2
}
